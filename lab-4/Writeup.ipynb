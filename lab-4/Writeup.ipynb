{
 "cells": [
  {
   "cell_type": "markdown",
   "metadata": {},
   "source": [
    "Open formatted assembly with Vim.\n",
    "\n",
    "```shell\n",
    "vi ERR599031_assembly_formatted.fasta\n",
    "```\n",
    "\n",
    "Inside Vim,\n",
    "* <kbd>j</kbd> to go down one line, to the start of the longest contig nucleotide sequence\n",
    "* <kbd>V</kbd> (capitalized) to select the full line, which contains the whole nucleotide sequence\n",
    "* <kbd>y</kbd> to \"yank\" (copy)\n",
    "* <kbd>:</kbd>+<kbd>q</kbd>+<kbd>!</kbd> to exit without saving\n",
    "\n",
    "I then opened new file with Vim, pasted the text with <kbd>p</kbd>, and closed with saving (<kbd>:</kbd>+<kbd>q</kbd>w<kbd>q</kbd>). Then I coped this file to my local computer with scp.\n",
    "\n",
    "```shell\n",
    "vi copied.txt\n",
    "scp [username]@liverpool.its.carleton.edu:/Accounts/[username]/project_directory/out/copied.txt .\n",
    "```\n",
    "\n"
   ]
  },
  {
   "cell_type": "code",
   "execution_count": null,
   "metadata": {
    "collapsed": true
   },
   "outputs": [],
   "source": []
  }
 ],
 "metadata": {
  "kernelspec": {
   "display_name": "Python 3",
   "language": "python",
   "name": "python3"
  },
  "language_info": {
   "codemirror_mode": {
    "name": "ipython",
    "version": 3
   },
   "file_extension": ".py",
   "mimetype": "text/x-python",
   "name": "python",
   "nbconvert_exporter": "python",
   "pygments_lexer": "ipython3",
   "version": "3.6.2"
  }
 },
 "nbformat": 4,
 "nbformat_minor": 2
}
